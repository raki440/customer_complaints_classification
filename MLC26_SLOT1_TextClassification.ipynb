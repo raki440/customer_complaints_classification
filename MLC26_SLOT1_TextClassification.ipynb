{
 "cells": [
  {
   "cell_type": "markdown",
   "metadata": {},
   "source": [
    "#### Sentiment polarity dataset\n",
    "![image.png](attachment:image.png)\n",
    "\n",
    "https://www.cs.cornell.edu/people/pabo/movie-review-data/\n"
   ]
  },
  {
   "cell_type": "code",
   "execution_count": 41,
   "metadata": {},
   "outputs": [],
   "source": [
    "import pandas as pd\n",
    "import numpy as np \n",
    "import nltk\n",
    "\n",
    "from sklearn.feature_extraction.text import TfidfVectorizer\n",
    "from sklearn.feature_selection import chi2\n",
    "\n",
    "from sklearn.model_selection import train_test_split\n",
    "from sklearn.linear_model import LogisticRegression\n",
    "from sklearn.ensemble import RandomForestClassifier\n",
    "from sklearn.metrics import confusion_matrix\n",
    "from sklearn import metrics\n",
    "from sklearn.metrics import accuracy_score, classification_report\n",
    "\n",
    "from nltk.corpus import stopwords\n",
    "from nltk.stem import WordNetLemmatizer\n",
    "from nltk.tokenize import word_tokenize\n",
    "import re\n",
    "from nltk import pos_tag\n",
    "\n",
    "from wordcloud import WordCloud\n",
    "import matplotlib.pyplot as plt, seaborn as sb\n",
    "import os\n",
    "from glob import glob\n",
    "\n",
    "# nltk.download('stopwords')\n",
    "# nltk.download('wordnet')\n",
    "import warnings\n",
    "warnings.filterwarnings(\"ignore\")\n",
    "\n",
    "# !pip install swifter\n",
    "import swifter #multi-threading/processing"
   ]
  },
  {
   "cell_type": "markdown",
   "metadata": {},
   "source": [
    "### Data Understanding & Cleaning"
   ]
  },
  {
   "cell_type": "code",
   "execution_count": 7,
   "metadata": {},
   "outputs": [],
   "source": [
    "pos_files = glob('../Data/txt_sentoken/pos/*')\n",
    "neg_files = glob('../Data/txt_sentoken/neg/*')\n",
    "\n",
    "def read_txt(FilePath):\n",
    "    with open(FilePath,'r') as fp:\n",
    "        txt = fp.read()\n",
    "    return txt\n",
    "\n",
    "POS_TXTS = [read_txt(fp) for fp in pos_files]\n",
    "NEG_TXTS = [read_txt(fp) for fp in neg_files]"
   ]
  },
  {
   "cell_type": "code",
   "execution_count": 6,
   "metadata": {},
   "outputs": [
    {
     "data": {
      "text/plain": [
       "(1000, 1000)"
      ]
     },
     "execution_count": 6,
     "metadata": {},
     "output_type": "execute_result"
    }
   ],
   "source": [
    "len(pos_files),len(neg_files)"
   ]
  },
  {
   "cell_type": "code",
   "execution_count": 13,
   "metadata": {
    "scrolled": true
   },
   "outputs": [
    {
     "data": {
      "text/html": [
       "<div>\n",
       "<style scoped>\n",
       "    .dataframe tbody tr th:only-of-type {\n",
       "        vertical-align: middle;\n",
       "    }\n",
       "\n",
       "    .dataframe tbody tr th {\n",
       "        vertical-align: top;\n",
       "    }\n",
       "\n",
       "    .dataframe thead th {\n",
       "        text-align: right;\n",
       "    }\n",
       "</style>\n",
       "<table border=\"1\" class=\"dataframe\">\n",
       "  <thead>\n",
       "    <tr style=\"text-align: right;\">\n",
       "      <th></th>\n",
       "      <th>0</th>\n",
       "      <th>1</th>\n",
       "    </tr>\n",
       "  </thead>\n",
       "  <tbody>\n",
       "    <tr>\n",
       "      <th>0</th>\n",
       "      <td>some text1</td>\n",
       "      <td>POS</td>\n",
       "    </tr>\n",
       "    <tr>\n",
       "      <th>1</th>\n",
       "      <td>some text2</td>\n",
       "      <td>POS</td>\n",
       "    </tr>\n",
       "  </tbody>\n",
       "</table>\n",
       "</div>"
      ],
      "text/plain": [
       "            0    1\n",
       "0  some text1  POS\n",
       "1  some text2  POS"
      ]
     },
     "execution_count": 13,
     "metadata": {},
     "output_type": "execute_result"
    }
   ],
   "source": [
    "temp = ['some text1','some text2']\n",
    "pd.DataFrame(zip(temp,['POS']*len(temp)))"
   ]
  },
  {
   "cell_type": "code",
   "execution_count": 12,
   "metadata": {},
   "outputs": [
    {
     "data": {
      "text/plain": [
       "[(1, 4), (2, 5), (3, 6)]"
      ]
     },
     "execution_count": 12,
     "metadata": {},
     "output_type": "execute_result"
    }
   ],
   "source": [
    "# list(zip([1,2,3],[4,5,6]))"
   ]
  },
  {
   "cell_type": "code",
   "execution_count": 15,
   "metadata": {},
   "outputs": [],
   "source": [
    "Datax = pd.DataFrame(list(zip(POS_TXTS, [1]*len(POS_TXTS))) + list(zip(NEG_TXTS,[0]*len(NEG_TXTS))) ,\n",
    "            columns =['text','target'])"
   ]
  },
  {
   "cell_type": "code",
   "execution_count": 16,
   "metadata": {},
   "outputs": [
    {
     "data": {
      "text/html": [
       "<div>\n",
       "<style scoped>\n",
       "    .dataframe tbody tr th:only-of-type {\n",
       "        vertical-align: middle;\n",
       "    }\n",
       "\n",
       "    .dataframe tbody tr th {\n",
       "        vertical-align: top;\n",
       "    }\n",
       "\n",
       "    .dataframe thead th {\n",
       "        text-align: right;\n",
       "    }\n",
       "</style>\n",
       "<table border=\"1\" class=\"dataframe\">\n",
       "  <thead>\n",
       "    <tr style=\"text-align: right;\">\n",
       "      <th></th>\n",
       "      <th>text</th>\n",
       "      <th>target</th>\n",
       "    </tr>\n",
       "  </thead>\n",
       "  <tbody>\n",
       "    <tr>\n",
       "      <th>0</th>\n",
       "      <td>films adapted from comic books have had plenty...</td>\n",
       "      <td>1</td>\n",
       "    </tr>\n",
       "    <tr>\n",
       "      <th>1</th>\n",
       "      <td>every now and then a movie comes along from a ...</td>\n",
       "      <td>1</td>\n",
       "    </tr>\n",
       "    <tr>\n",
       "      <th>2</th>\n",
       "      <td>you've got mail works alot better than it dese...</td>\n",
       "      <td>1</td>\n",
       "    </tr>\n",
       "    <tr>\n",
       "      <th>3</th>\n",
       "      <td>\" jaws \" is a rare film that grabs your atten...</td>\n",
       "      <td>1</td>\n",
       "    </tr>\n",
       "    <tr>\n",
       "      <th>4</th>\n",
       "      <td>moviemaking is a lot like being the general ma...</td>\n",
       "      <td>1</td>\n",
       "    </tr>\n",
       "  </tbody>\n",
       "</table>\n",
       "</div>"
      ],
      "text/plain": [
       "                                                text  target\n",
       "0  films adapted from comic books have had plenty...       1\n",
       "1  every now and then a movie comes along from a ...       1\n",
       "2  you've got mail works alot better than it dese...       1\n",
       "3   \" jaws \" is a rare film that grabs your atten...       1\n",
       "4  moviemaking is a lot like being the general ma...       1"
      ]
     },
     "execution_count": 16,
     "metadata": {},
     "output_type": "execute_result"
    }
   ],
   "source": [
    "Datax.head()"
   ]
  },
  {
   "cell_type": "code",
   "execution_count": 21,
   "metadata": {},
   "outputs": [
    {
     "data": {
      "text/plain": [
       "<AxesSubplot:ylabel='target'>"
      ]
     },
     "execution_count": 21,
     "metadata": {},
     "output_type": "execute_result"
    },
    {
     "data": {
      "image/png": "[encoded data removed]",
      "text/plain": [
       "<Figure size 432x288 with 1 Axes>"
      ]
     },
     "metadata": {},
     "output_type": "display_data"
    }
   ],
   "source": [
    "Datax.target.value_counts().plot(kind='pie')"
   ]
  },
  {
   "cell_type": "code",
   "execution_count": 23,
   "metadata": {
    "collapsed": true
   },
   "outputs": [
    {
     "data": {
      "text/plain": [
       "'films adapted from comic books have had plenty of success , whether they\\'re about superheroes ( batman , superman , spawn ) , or geared toward kids ( casper ) or the arthouse crowd ( ghost world ) , but there\\'s never really been a comic book like from hell before . \\nfor starters , it was created by alan moore ( and eddie campbell ) , who brought the medium to a whole new level in the mid \\'80s with a 12-part series called the watchmen . \\nto say moore and campbell thoroughly researched the subject of jack the ripper would be like saying michael jackson is starting to look a little odd . \\nthe book ( or \" graphic novel , \" if you will ) is over 500 pages long and includes nearly 30 more that consist of nothing but footnotes . \\nin other words , don\\'t dismiss this film because of its source . \\nif you can get past the whole comic book thing , you might find another stumbling block in from hell\\'s directors , albert and allen hughes . \\ngetting the hughes brothers to direct this seems almost as ludicrous as casting carrot top in , well , anything , but riddle me this : who better to direct a film that\\'s set in the ghetto and features really violent street crime than the mad geniuses behind menace ii society ? \\nthe ghetto in question is , of course , whitechapel in 1888 london\\'s east end . \\nit\\'s a filthy , sooty place where the whores ( called \" unfortunates \" ) are starting to get a little nervous about this mysterious psychopath who has been carving through their profession with surgical precision . \\nwhen the first stiff turns up , copper peter godley ( robbie coltrane , the world is not enough ) calls in inspector frederick abberline ( johnny depp , blow ) to crack the case . \\nabberline , a widower , has prophetic dreams he unsuccessfully tries to quell with copious amounts of absinthe and opium . \\nupon arriving in whitechapel , he befriends an unfortunate named mary kelly ( heather graham , say it isn\\'t so ) and proceeds to investigate the horribly gruesome crimes that even the police surgeon can\\'t stomach . \\ni don\\'t think anyone needs to be briefed on jack the ripper , so i won\\'t go into the particulars here , other than to say moore and campbell have a unique and interesting theory about both the identity of the killer and the reasons he chooses to slay . \\nin the comic , they don\\'t bother cloaking the identity of the ripper , but screenwriters terry hayes ( vertical limit ) and rafael yglesias ( les mis ? rables ) do a good job of keeping him hidden from viewers until the very end . \\nit\\'s funny to watch the locals blindly point the finger of blame at jews and indians because , after all , an englishman could never be capable of committing such ghastly acts . \\nand from hell\\'s ending had me whistling the stonecutters song from the simpsons for days ( \" who holds back the electric car/who made steve guttenberg a star ? \" ) . \\ndon\\'t worry - it\\'ll all make sense when you see it . \\nnow onto from hell\\'s appearance : it\\'s certainly dark and bleak enough , and it\\'s surprising to see how much more it looks like a tim burton film than planet of the apes did ( at times , it seems like sleepy hollow 2 ) . \\nthe print i saw wasn\\'t completely finished ( both color and music had not been finalized , so no comments about marilyn manson ) , but cinematographer peter deming ( don\\'t say a word ) ably captures the dreariness of victorian-era london and helped make the flashy killing scenes remind me of the crazy flashbacks in twin peaks , even though the violence in the film pales in comparison to that in the black-and-white comic . \\noscar winner martin childs\\' ( shakespeare in love ) production design turns the original prague surroundings into one creepy place . \\neven the acting in from hell is solid , with the dreamy depp turning in a typically strong performance and deftly handling a british accent . \\nians holm ( joe gould\\'s secret ) and richardson ( 102 dalmatians ) log in great supporting roles , but the big surprise here is graham . \\ni cringed the first time she opened her mouth , imagining her attempt at an irish accent , but it actually wasn\\'t half bad . \\nthe film , however , is all good . \\n2 : 00 - r for strong violence/gore , sexuality , language and drug content \\n'"
      ]
     },
     "execution_count": 23,
     "metadata": {},
     "output_type": "execute_result"
    }
   ],
   "source": [
    "Datax.iloc[0]['text']"
   ]
  },
  {
   "cell_type": "code",
   "execution_count": 30,
   "metadata": {},
   "outputs": [
    {
     "data": {
      "application/vnd.jupyter.widget-view+json": {
       "model_id": "53afc1e041ac47ae9ce937ca9bde79ee",
       "version_major": 2,
       "version_minor": 0
      },
      "text/plain": [
       "Pandas Apply:   0%|          | 0/2000 [00:00<?, ?it/s]"
      ]
     },
     "metadata": {},
     "output_type": "display_data"
    },
    {
     "data": {
      "application/vnd.jupyter.widget-view+json": {
       "model_id": "abe24494b6bc4045bff6e4a87f3ab06b",
       "version_major": 2,
       "version_minor": 0
      },
      "text/plain": [
       "Pandas Apply:   0%|          | 0/2000 [00:00<?, ?it/s]"
      ]
     },
     "metadata": {},
     "output_type": "display_data"
    }
   ],
   "source": [
    "Datax.text = Datax.text.str.lower()\n",
    "Datax.text = Datax.text.swifter.apply(lambda x:re.sub('[^a-zA-Z]',' ',x))\n",
    "Datax.text = Datax.text.swifter.apply(lambda x:re.sub(' +',' ',x))"
   ]
  },
  {
   "cell_type": "code",
   "execution_count": 55,
   "metadata": {},
   "outputs": [],
   "source": [
    "sw = stopwords.words('english')\n",
    "lem = WordNetLemmatizer()\n",
    "\n",
    "def token_process(text):\n",
    "    tokens = word_tokenize(text)\n",
    "    tokens = list(filter(lambda x:x not in sw , tokens))\n",
    "    processed_token = []\n",
    "    for w,pos in pos_tag(tokens):\n",
    "        try:\n",
    "            processed_token.append(lem.lemmatize(w,pos[0].lower()))\n",
    "        except:\n",
    "            processed_token.append(lem.lemmatize(w))\n",
    "    processed_text = ' '.join(processed_token)\n",
    "    return processed_text"
   ]
  },
  {
   "cell_type": "code",
   "execution_count": 56,
   "metadata": {
    "scrolled": true
   },
   "outputs": [
    {
     "data": {
      "text/plain": [
       "'check po work'"
      ]
     },
     "execution_count": 56,
     "metadata": {},
     "output_type": "execute_result"
    }
   ],
   "source": [
    "token_process('just checking if the pos works')"
   ]
  },
  {
   "cell_type": "code",
   "execution_count": 57,
   "metadata": {},
   "outputs": [
    {
     "data": {
      "application/vnd.jupyter.widget-view+json": {
       "model_id": "56b352a5d1cf46bd8557d04fb7a8b4fb",
       "version_major": 2,
       "version_minor": 0
      },
      "text/plain": [
       "Pandas Apply:   0%|          | 0/2000 [00:00<?, ?it/s]"
      ]
     },
     "metadata": {},
     "output_type": "display_data"
    }
   ],
   "source": [
    "Datax.text = Datax.text.swifter.apply(token_process)"
   ]
  },
  {
   "cell_type": "code",
   "execution_count": 58,
   "metadata": {},
   "outputs": [
    {
     "data": {
      "text/plain": [
       "0       film adapt comic book plenty success whether s...\n",
       "1       every movie come along suspect studio every in...\n",
       "2       get mail work alot better deserves order make ...\n",
       "3       jaw rare film grab attention show single image...\n",
       "4       moviemaking lot like general manager nfl team ...\n",
       "                              ...                        \n",
       "1995    anything stigma take warn release similarly th...\n",
       "1996    john boorman zardoz goofy cinematic debacle fu...\n",
       "1997    kid hall acquire taste take least season watch...\n",
       "1998    time john carpenter great horror director cour...\n",
       "1999    two party guy bob head haddaway dance hit love...\n",
       "Name: text, Length: 2000, dtype: object"
      ]
     },
     "execution_count": 58,
     "metadata": {},
     "output_type": "execute_result"
    }
   ],
   "source": [
    "Datax.text"
   ]
  },
  {
   "cell_type": "code",
   "execution_count": 59,
   "metadata": {},
   "outputs": [
    {
     "data": {
      "text/plain": [
       "(2000, 2)"
      ]
     },
     "execution_count": 59,
     "metadata": {},
     "output_type": "execute_result"
    }
   ],
   "source": [
    "Datax.shape"
   ]
  },
  {
   "cell_type": "code",
   "execution_count": 53,
   "metadata": {},
   "outputs": [],
   "source": [
    "# pos_tag(word_tokenize('python is awesome'))"
   ]
  },
  {
   "cell_type": "markdown",
   "metadata": {},
   "source": [
    "### EDA"
   ]
  },
  {
   "cell_type": "code",
   "execution_count": 64,
   "metadata": {},
   "outputs": [],
   "source": [
    "POS_WORDS = Datax[Datax.target==1].text.str.split().values.tolist()\n",
    "NEG_WORDS = Datax[Datax.target==0].text.str.split().values.tolist()\n",
    "\n",
    "POS_WORDS = [w for seq in POS_WORDS for w in seq]\n",
    "NEG_WORDS = [w for seq in NEG_WORDS for w in seq]"
   ]
  },
  {
   "cell_type": "code",
   "execution_count": 65,
   "metadata": {},
   "outputs": [
    {
     "data": {
      "text/plain": [
       "(371976, 330448)"
      ]
     },
     "execution_count": 65,
     "metadata": {},
     "output_type": "execute_result"
    }
   ],
   "source": [
    "len(POS_WORDS), len(NEG_WORDS)"
   ]
  },
  {
   "cell_type": "code",
   "execution_count": 66,
   "metadata": {},
   "outputs": [
    {
     "data": {
      "text/plain": [
       "[('film', 6182),\n",
       " ('movie', 3163),\n",
       " ('one', 3156),\n",
       " ('make', 2175),\n",
       " ('character', 2064),\n",
       " ('like', 1933),\n",
       " ('see', 1789),\n",
       " ('get', 1734),\n",
       " ('time', 1579),\n",
       " ('go', 1479)]"
      ]
     },
     "execution_count": 66,
     "metadata": {},
     "output_type": "execute_result"
    }
   ],
   "source": [
    "nltk.FreqDist(POS_WORDS).most_common(10)"
   ]
  },
  {
   "cell_type": "code",
   "execution_count": 67,
   "metadata": {},
   "outputs": [
    {
     "data": {
      "text/plain": [
       "[('film', 4998),\n",
       " ('movie', 3818),\n",
       " ('one', 2874),\n",
       " ('make', 2085),\n",
       " ('like', 2011),\n",
       " ('get', 1993),\n",
       " ('character', 1815),\n",
       " ('go', 1564),\n",
       " ('time', 1427),\n",
       " ('even', 1402)]"
      ]
     },
     "execution_count": 67,
     "metadata": {},
     "output_type": "execute_result"
    }
   ],
   "source": [
    "nltk.FreqDist(NEG_WORDS).most_common(10)"
   ]
  },
  {
   "cell_type": "code",
   "execution_count": 71,
   "metadata": {},
   "outputs": [],
   "source": [
    "POS_DIST = pd.DataFrame(nltk.FreqDist(POS_WORDS).items() ,columns = ['word','WordCount_pos'])\n",
    "POS_DIST = POS_DIST.set_index('word')\n",
    "\n",
    "NEG_DIST = pd.DataFrame(nltk.FreqDist(NEG_WORDS).items() ,columns = ['word','WordCount_neg'])\n",
    "NEG_DIST = NEG_DIST.set_index('word')"
   ]
  },
  {
   "cell_type": "code",
   "execution_count": 80,
   "metadata": {},
   "outputs": [],
   "source": [
    "COM_DIST = POS_DIST.join(NEG_DIST)\n",
    "COM_DIST = COM_DIST.fillna(1)\n",
    "COM_DIST = COM_DIST[(COM_DIST.WordCount_pos +COM_DIST.WordCount_neg)>50]\n",
    "COM_DIST['ratio'] = np.log(COM_DIST.WordCount_pos/COM_DIST.WordCount_neg)"
   ]
  },
  {
   "cell_type": "code",
   "execution_count": 81,
   "metadata": {},
   "outputs": [
    {
     "data": {
      "text/html": [
       "<div>\n",
       "<style scoped>\n",
       "    .dataframe tbody tr th:only-of-type {\n",
       "        vertical-align: middle;\n",
       "    }\n",
       "\n",
       "    .dataframe tbody tr th {\n",
       "        vertical-align: top;\n",
       "    }\n",
       "\n",
       "    .dataframe thead th {\n",
       "        text-align: right;\n",
       "    }\n",
       "</style>\n",
       "<table border=\"1\" class=\"dataframe\">\n",
       "  <thead>\n",
       "    <tr style=\"text-align: right;\">\n",
       "      <th></th>\n",
       "      <th>WordCount_pos</th>\n",
       "      <th>WordCount_neg</th>\n",
       "      <th>ratio</th>\n",
       "    </tr>\n",
       "    <tr>\n",
       "      <th>word</th>\n",
       "      <th></th>\n",
       "      <th></th>\n",
       "      <th></th>\n",
       "    </tr>\n",
       "  </thead>\n",
       "  <tbody>\n",
       "    <tr>\n",
       "      <th>mulan</th>\n",
       "      <td>96</td>\n",
       "      <td>1.0</td>\n",
       "      <td>4.564348</td>\n",
       "    </tr>\n",
       "    <tr>\n",
       "      <th>flynt</th>\n",
       "      <td>79</td>\n",
       "      <td>1.0</td>\n",
       "      <td>4.369448</td>\n",
       "    </tr>\n",
       "    <tr>\n",
       "      <th>shrek</th>\n",
       "      <td>63</td>\n",
       "      <td>1.0</td>\n",
       "      <td>4.143135</td>\n",
       "    </tr>\n",
       "    <tr>\n",
       "      <th>lebowski</th>\n",
       "      <td>55</td>\n",
       "      <td>1.0</td>\n",
       "      <td>4.007333</td>\n",
       "    </tr>\n",
       "    <tr>\n",
       "      <th>bulworth</th>\n",
       "      <td>58</td>\n",
       "      <td>2.0</td>\n",
       "      <td>3.367296</td>\n",
       "    </tr>\n",
       "    <tr>\n",
       "      <th>damon</th>\n",
       "      <td>69</td>\n",
       "      <td>4.0</td>\n",
       "      <td>2.847812</td>\n",
       "    </tr>\n",
       "    <tr>\n",
       "      <th>truman</th>\n",
       "      <td>152</td>\n",
       "      <td>11.0</td>\n",
       "      <td>2.625985</td>\n",
       "    </tr>\n",
       "    <tr>\n",
       "      <th>outstanding</th>\n",
       "      <td>69</td>\n",
       "      <td>5.0</td>\n",
       "      <td>2.624669</td>\n",
       "    </tr>\n",
       "    <tr>\n",
       "      <th>finest</th>\n",
       "      <td>50</td>\n",
       "      <td>5.0</td>\n",
       "      <td>2.302585</td>\n",
       "    </tr>\n",
       "    <tr>\n",
       "      <th>derek</th>\n",
       "      <td>62</td>\n",
       "      <td>7.0</td>\n",
       "      <td>2.181224</td>\n",
       "    </tr>\n",
       "    <tr>\n",
       "      <th>jedi</th>\n",
       "      <td>71</td>\n",
       "      <td>9.0</td>\n",
       "      <td>2.065455</td>\n",
       "    </tr>\n",
       "    <tr>\n",
       "      <th>religion</th>\n",
       "      <td>47</td>\n",
       "      <td>6.0</td>\n",
       "      <td>2.058388</td>\n",
       "    </tr>\n",
       "    <tr>\n",
       "      <th>scorsese</th>\n",
       "      <td>62</td>\n",
       "      <td>8.0</td>\n",
       "      <td>2.047693</td>\n",
       "    </tr>\n",
       "    <tr>\n",
       "      <th>wonderfully</th>\n",
       "      <td>75</td>\n",
       "      <td>10.0</td>\n",
       "      <td>2.014903</td>\n",
       "    </tr>\n",
       "    <tr>\n",
       "      <th>ripley</th>\n",
       "      <td>56</td>\n",
       "      <td>10.0</td>\n",
       "      <td>1.722767</td>\n",
       "    </tr>\n",
       "    <tr>\n",
       "      <th>balance</th>\n",
       "      <td>50</td>\n",
       "      <td>9.0</td>\n",
       "      <td>1.714798</td>\n",
       "    </tr>\n",
       "    <tr>\n",
       "      <th>spacey</th>\n",
       "      <td>44</td>\n",
       "      <td>8.0</td>\n",
       "      <td>1.704748</td>\n",
       "    </tr>\n",
       "    <tr>\n",
       "      <th>beautifully</th>\n",
       "      <td>43</td>\n",
       "      <td>8.0</td>\n",
       "      <td>1.681759</td>\n",
       "    </tr>\n",
       "    <tr>\n",
       "      <th>ideal</th>\n",
       "      <td>48</td>\n",
       "      <td>9.0</td>\n",
       "      <td>1.673976</td>\n",
       "    </tr>\n",
       "    <tr>\n",
       "      <th>era</th>\n",
       "      <td>72</td>\n",
       "      <td>14.0</td>\n",
       "      <td>1.637609</td>\n",
       "    </tr>\n",
       "  </tbody>\n",
       "</table>\n",
       "</div>"
      ],
      "text/plain": [
       "             WordCount_pos  WordCount_neg     ratio\n",
       "word                                               \n",
       "mulan                   96            1.0  4.564348\n",
       "flynt                   79            1.0  4.369448\n",
       "shrek                   63            1.0  4.143135\n",
       "lebowski                55            1.0  4.007333\n",
       "bulworth                58            2.0  3.367296\n",
       "damon                   69            4.0  2.847812\n",
       "truman                 152           11.0  2.625985\n",
       "outstanding             69            5.0  2.624669\n",
       "finest                  50            5.0  2.302585\n",
       "derek                   62            7.0  2.181224\n",
       "jedi                    71            9.0  2.065455\n",
       "religion                47            6.0  2.058388\n",
       "scorsese                62            8.0  2.047693\n",
       "wonderfully             75           10.0  2.014903\n",
       "ripley                  56           10.0  1.722767\n",
       "balance                 50            9.0  1.714798\n",
       "spacey                  44            8.0  1.704748\n",
       "beautifully             43            8.0  1.681759\n",
       "ideal                   48            9.0  1.673976\n",
       "era                     72           14.0  1.637609"
      ]
     },
     "execution_count": 81,
     "metadata": {},
     "output_type": "execute_result"
    }
   ],
   "source": [
    "COM_DIST.sort_values(by='ratio',ascending=False).head(20)"
   ]
  },
  {
   "cell_type": "code",
   "execution_count": 82,
   "metadata": {},
   "outputs": [
    {
     "data": {
      "text/html": [
       "<div>\n",
       "<style scoped>\n",
       "    .dataframe tbody tr th:only-of-type {\n",
       "        vertical-align: middle;\n",
       "    }\n",
       "\n",
       "    .dataframe tbody tr th {\n",
       "        vertical-align: top;\n",
       "    }\n",
       "\n",
       "    .dataframe thead th {\n",
       "        text-align: right;\n",
       "    }\n",
       "</style>\n",
       "<table border=\"1\" class=\"dataframe\">\n",
       "  <thead>\n",
       "    <tr style=\"text-align: right;\">\n",
       "      <th></th>\n",
       "      <th>WordCount_pos</th>\n",
       "      <th>WordCount_neg</th>\n",
       "      <th>ratio</th>\n",
       "    </tr>\n",
       "    <tr>\n",
       "      <th>word</th>\n",
       "      <th></th>\n",
       "      <th></th>\n",
       "      <th></th>\n",
       "    </tr>\n",
       "  </thead>\n",
       "  <tbody>\n",
       "    <tr>\n",
       "      <th>seagal</th>\n",
       "      <td>2</td>\n",
       "      <td>74.0</td>\n",
       "      <td>-3.610918</td>\n",
       "    </tr>\n",
       "    <tr>\n",
       "      <th>schumacher</th>\n",
       "      <td>3</td>\n",
       "      <td>54.0</td>\n",
       "      <td>-2.890372</td>\n",
       "    </tr>\n",
       "    <tr>\n",
       "      <th>godzilla</th>\n",
       "      <td>14</td>\n",
       "      <td>120.0</td>\n",
       "      <td>-2.148434</td>\n",
       "    </tr>\n",
       "    <tr>\n",
       "      <th>lame</th>\n",
       "      <td>15</td>\n",
       "      <td>96.0</td>\n",
       "      <td>-1.856298</td>\n",
       "    </tr>\n",
       "    <tr>\n",
       "      <th>poorly</th>\n",
       "      <td>14</td>\n",
       "      <td>80.0</td>\n",
       "      <td>-1.742969</td>\n",
       "    </tr>\n",
       "    <tr>\n",
       "      <th>waste</th>\n",
       "      <td>42</td>\n",
       "      <td>229.0</td>\n",
       "      <td>-1.696052</td>\n",
       "    </tr>\n",
       "    <tr>\n",
       "      <th>ridiculous</th>\n",
       "      <td>22</td>\n",
       "      <td>118.0</td>\n",
       "      <td>-1.679642</td>\n",
       "    </tr>\n",
       "    <tr>\n",
       "      <th>awful</th>\n",
       "      <td>21</td>\n",
       "      <td>111.0</td>\n",
       "      <td>-1.665008</td>\n",
       "    </tr>\n",
       "    <tr>\n",
       "      <th>worst</th>\n",
       "      <td>49</td>\n",
       "      <td>259.0</td>\n",
       "      <td>-1.665008</td>\n",
       "    </tr>\n",
       "    <tr>\n",
       "      <th>eve</th>\n",
       "      <td>11</td>\n",
       "      <td>54.0</td>\n",
       "      <td>-1.591089</td>\n",
       "    </tr>\n",
       "    <tr>\n",
       "      <th>unfunny</th>\n",
       "      <td>15</td>\n",
       "      <td>73.0</td>\n",
       "      <td>-1.582409</td>\n",
       "    </tr>\n",
       "    <tr>\n",
       "      <th>uninteresting</th>\n",
       "      <td>10</td>\n",
       "      <td>48.0</td>\n",
       "      <td>-1.568616</td>\n",
       "    </tr>\n",
       "    <tr>\n",
       "      <th>bang</th>\n",
       "      <td>10</td>\n",
       "      <td>47.0</td>\n",
       "      <td>-1.547563</td>\n",
       "    </tr>\n",
       "    <tr>\n",
       "      <th>stupid</th>\n",
       "      <td>45</td>\n",
       "      <td>209.0</td>\n",
       "      <td>-1.535672</td>\n",
       "    </tr>\n",
       "    <tr>\n",
       "      <th>dull</th>\n",
       "      <td>24</td>\n",
       "      <td>111.0</td>\n",
       "      <td>-1.531476</td>\n",
       "    </tr>\n",
       "    <tr>\n",
       "      <th>boring</th>\n",
       "      <td>22</td>\n",
       "      <td>99.0</td>\n",
       "      <td>-1.504077</td>\n",
       "    </tr>\n",
       "    <tr>\n",
       "      <th>painfully</th>\n",
       "      <td>11</td>\n",
       "      <td>49.0</td>\n",
       "      <td>-1.493925</td>\n",
       "    </tr>\n",
       "    <tr>\n",
       "      <th>arnold</th>\n",
       "      <td>18</td>\n",
       "      <td>80.0</td>\n",
       "      <td>-1.491655</td>\n",
       "    </tr>\n",
       "    <tr>\n",
       "      <th>pointless</th>\n",
       "      <td>17</td>\n",
       "      <td>75.0</td>\n",
       "      <td>-1.484275</td>\n",
       "    </tr>\n",
       "    <tr>\n",
       "      <th>laughable</th>\n",
       "      <td>14</td>\n",
       "      <td>60.0</td>\n",
       "      <td>-1.455287</td>\n",
       "    </tr>\n",
       "  </tbody>\n",
       "</table>\n",
       "</div>"
      ],
      "text/plain": [
       "               WordCount_pos  WordCount_neg     ratio\n",
       "word                                                 \n",
       "seagal                     2           74.0 -3.610918\n",
       "schumacher                 3           54.0 -2.890372\n",
       "godzilla                  14          120.0 -2.148434\n",
       "lame                      15           96.0 -1.856298\n",
       "poorly                    14           80.0 -1.742969\n",
       "waste                     42          229.0 -1.696052\n",
       "ridiculous                22          118.0 -1.679642\n",
       "awful                     21          111.0 -1.665008\n",
       "worst                     49          259.0 -1.665008\n",
       "eve                       11           54.0 -1.591089\n",
       "unfunny                   15           73.0 -1.582409\n",
       "uninteresting             10           48.0 -1.568616\n",
       "bang                      10           47.0 -1.547563\n",
       "stupid                    45          209.0 -1.535672\n",
       "dull                      24          111.0 -1.531476\n",
       "boring                    22           99.0 -1.504077\n",
       "painfully                 11           49.0 -1.493925\n",
       "arnold                    18           80.0 -1.491655\n",
       "pointless                 17           75.0 -1.484275\n",
       "laughable                 14           60.0 -1.455287"
      ]
     },
     "execution_count": 82,
     "metadata": {},
     "output_type": "execute_result"
    }
   ],
   "source": [
    "COM_DIST.sort_values(by='ratio',ascending=True).head(20)"
   ]
  },
  {
   "cell_type": "code",
   "execution_count": 83,
   "metadata": {},
   "outputs": [],
   "source": [
    "wordcloud = WordCloud(background_color = 'black', width = 800, height = 400,\n",
    "                      colormap = 'viridis', max_words = 180, contour_width = 3,\n",
    "                      max_font_size = 80, contour_color = 'steelblue',\n",
    "                      random_state = 0)"
   ]
  },
  {
   "cell_type": "code",
   "execution_count": 84,
   "metadata": {},
   "outputs": [],
   "source": [
    "most_freq_neg = COM_DIST.sort_values(by='ratio',ascending=True).head(50).index"
   ]
  },
  {
   "cell_type": "code",
   "execution_count": 91,
   "metadata": {},
   "outputs": [
    {
     "data": {
      "text/plain": [
       "<matplotlib.image.AxesImage at 0x24e3d7381c0>"
      ]
     },
     "execution_count": 91,
     "metadata": {},
     "output_type": "execute_result"
    },
    {
     "data": {
      "image/png": "[encoded data removed]",
      "text/plain": [
       "<Figure size 432x288 with 1 Axes>"
      ]
     },
     "metadata": {
      "needs_background": "light"
     },
     "output_type": "display_data"
    }
   ],
   "source": [
    "wordcloud.generate(' '.join([w for w in NEG_WORDS if w in most_freq_neg.tolist()]))\n",
    "plt.imshow(wordcloud)"
   ]
  },
  {
   "cell_type": "markdown",
   "metadata": {},
   "source": [
    "\n",
    "## Feature Extraction\n",
    "\n",
    "The text needs to be transformed to vectors so as the algorithms will be able make predictions. In this case it will be used the Term Frequency – Inverse Document Frequency (TFIDF) weight to evaluate __how important a word is to a document in a collection of documents__.\n",
    "\n",
    "After removing __punctuation__ and __lower casing__ the words, importance of a word is determined in terms of its frequency."
   ]
  },
  {
   "cell_type": "markdown",
   "metadata": {},
   "source": [
    "### “Term Frequency – Inverse Document Frequency \n",
    "\n",
    "__TF-IDF__ is the product of the __TF__ and __IDF__ scores of the term.<br><br> $$\\text{TF-IDF}=\\frac{\\text{TF}}{\\text{IDF}}$$<br>\n",
    "\n",
    "__Term Frequency :__ This summarizes how often a given word appears within a document.\n",
    "\n",
    "$$\\text{TF} = \\frac{\\text{Number of times the term appears in the doc}}{\\text{Total number of words in the doc}}$$<br><br>\n",
    "__Inverse Document Frequency:__ This downscales words that appear a lot across documents. A term has a high IDF score if it appears in a few documents. Conversely, if the term is very common among documents (i.e., “the”, “a”, “is”), the term would have a low IDF score.<br>\n",
    "\n",
    "$$\\text{IDF} = \\ln\\left(\\frac{\\text{Number of docs}}{\\text{Number docs the term appears in}} \\right)$$<br>\n",
    "\n",
    "TF-IDF are word frequency scores that try to highlight words that are more interesting, e.g. frequent in a document but not across documents. The higher the TFIDF score, the rarer the term is. For instance, in a Mortgage complaint the word _mortgage_ would be mentioned fairly often. However, if we look at other complaints, _mortgage_ probably would not show up in many of them. We can infer that _mortgage_ is most probably an important word in Mortgage complaints as compared to the other products. Therefore, _mortgage_ would have a high TF-IDF score for Mortgage complaints.\n",
    "\n",
    "TfidfVectorizer class can be initialized with the following parameters:\n",
    "* __min_df__: remove the words from the vocabulary which have occurred in less than ‘min_df’ number of files.\n",
    "* __max_df__: remove the words from the vocabulary which have occurred in more than _‘max_df’ * total number of files in corpus_.\n",
    "* __sublinear_tf__: set to True to scale the term frequency in logarithmic scale.\n",
    "* __stop_words__: remove the predefined stop words in 'english'.\n",
    "* __use_idf__: weight factor must use inverse document frequency.\n",
    "* __ngram_range__: (1, 2) to indicate that unigrams and bigrams will be considered."
   ]
  },
  {
   "cell_type": "code",
   "execution_count": 92,
   "metadata": {},
   "outputs": [],
   "source": [
    "X = Datax.text.values\n",
    "y = Datax.target.values"
   ]
  },
  {
   "cell_type": "code",
   "execution_count": 119,
   "metadata": {},
   "outputs": [],
   "source": [
    "X_train,X_test,y_train,y_test = train_test_split(X,y,test_size=0.2,random_state=0)"
   ]
  },
  {
   "cell_type": "code",
   "execution_count": 120,
   "metadata": {
    "scrolled": true
   },
   "outputs": [],
   "source": [
    "td = TfidfVectorizer(max_features = 10000, ngram_range=(1,3))\n",
    "X_train = td.fit_transform(X_train).toarray()\n",
    "X_test = td.transform(X_test).toarray()"
   ]
  },
  {
   "cell_type": "code",
   "execution_count": 121,
   "metadata": {},
   "outputs": [
    {
     "data": {
      "text/plain": [
       "((1600, 10000), (400, 10000))"
      ]
     },
     "execution_count": 121,
     "metadata": {},
     "output_type": "execute_result"
    }
   ],
   "source": [
    "X_train.shape , X_test.shape"
   ]
  },
  {
   "cell_type": "code",
   "execution_count": 122,
   "metadata": {},
   "outputs": [],
   "source": [
    "feature_names = td.get_feature_names()\n",
    "unigrams = [v for v in feature_names if len(v.split())==1]\n",
    "bigrams = [v for v in feature_names if len(v.split())==2]\n",
    "trigrams = [v for v in feature_names if len(v.split())==3]"
   ]
  },
  {
   "cell_type": "code",
   "execution_count": 123,
   "metadata": {
    "collapsed": true
   },
   "outputs": [
    {
     "data": {
      "text/plain": [
       "['amazing potent stuff',\n",
       " 'babe pig city',\n",
       " 'base true story',\n",
       " 'best film year',\n",
       " 'best friend wed',\n",
       " 'big momma house',\n",
       " 'blair witch project',\n",
       " 'bob strike back',\n",
       " 'brian de palma',\n",
       " 'bridge river kwai',\n",
       " 'bring friend amazing',\n",
       " 'casper van dien',\n",
       " 'chow yun fat',\n",
       " 'claude van damme',\n",
       " 'consider portion follow',\n",
       " 'creaky still well',\n",
       " 'cuba gooding jr',\n",
       " 'day seven night',\n",
       " 'detroit rock city',\n",
       " 'disney animate feature',\n",
       " 'dream may come',\n",
       " 'drive miss daisy',\n",
       " 'drunken master ii',\n",
       " 'episode phantom menace',\n",
       " 'everyone say love',\n",
       " 'eye wide shut',\n",
       " 'film ever make',\n",
       " 'film ever see',\n",
       " 'film look like',\n",
       " 'film take place',\n",
       " 'first half hour',\n",
       " 'fly inkpot rating',\n",
       " 'follow text spoiler',\n",
       " 'freddie prinze jr',\n",
       " 'friend amazing potent',\n",
       " 'full metal jacket',\n",
       " 'give good performance',\n",
       " 'go see movie',\n",
       " 'good bring friend',\n",
       " 'good guy bad',\n",
       " 'gotcha pretty good',\n",
       " 'granger movie gauge',\n",
       " 'gu van sant',\n",
       " 'guy bad guy',\n",
       " 'hank meg ryan',\n",
       " 'home gotcha pretty',\n",
       " 'hong kong action',\n",
       " 'house haunt hill',\n",
       " 'inkpot rating system',\n",
       " 'jackie chan movie',\n",
       " 'jamie lee curtis',\n",
       " 'jan de bont',\n",
       " 'jay silent bob',\n",
       " 'jean claude van',\n",
       " 'jennifer love hewitt',\n",
       " 'john cameron mitchell',\n",
       " 'know go happen',\n",
       " 'know last summer',\n",
       " 'known fact film',\n",
       " 'last day disco',\n",
       " 'last half hour',\n",
       " 'little creaky still',\n",
       " 'little known fact',\n",
       " 'little screen time',\n",
       " 'long time ago',\n",
       " 'lou diamond phillips',\n",
       " 'make good movie',\n",
       " 'make look like',\n",
       " 'make matter worse',\n",
       " 'may consider portion',\n",
       " 'meet joe black',\n",
       " 'mid life crisis',\n",
       " 'mighty joe young',\n",
       " 'minute run time',\n",
       " 'movie ever make',\n",
       " 'movie ever see',\n",
       " 'new year eve',\n",
       " 'new york city',\n",
       " 'nightmare elm street',\n",
       " 'note may consider',\n",
       " 'obi wan kenobi',\n",
       " 'one best film',\n",
       " 'one best movie',\n",
       " 'one would expect',\n",
       " 'people vs larry',\n",
       " 'perfection see twice',\n",
       " 'portion follow text',\n",
       " 'potent stuff perfection',\n",
       " 'pretty good bring',\n",
       " 'qui gon jinni',\n",
       " 'raider lose ark',\n",
       " 'rating system wait',\n",
       " 'robert de niro',\n",
       " 'romeo must die',\n",
       " 'run time minute',\n",
       " 'saturday night live',\n",
       " 'save private ryan',\n",
       " 'sci fi film',\n",
       " 'science fiction film',\n",
       " 'seann william scott',\n",
       " 'second half film',\n",
       " 'see long time',\n",
       " 'silent bob strike',\n",
       " 'six day seven',\n",
       " 'spend much time',\n",
       " 'star trek insurrection',\n",
       " 'star war episode',\n",
       " 'star war film',\n",
       " 'star war trilogy',\n",
       " 'stay home gotcha',\n",
       " 'still know last',\n",
       " 'still well stay',\n",
       " 'stuff perfection see',\n",
       " 'support cast include',\n",
       " 'susan granger review',\n",
       " 'tarzan lose city',\n",
       " 'text spoiler forewarn',\n",
       " 'theatrical aspect ratio',\n",
       " 'thin red line',\n",
       " 'thing go wrong',\n",
       " 'tom hank meg',\n",
       " 'tommy lee jones',\n",
       " 'tomorrow never die',\n",
       " 'tour de force',\n",
       " 'two half hour',\n",
       " 'vs larry flynt',\n",
       " 'war episode phantom',\n",
       " 'well stay home',\n",
       " 'whole nine yard',\n",
       " 'wild wild west',\n",
       " 'world war ii',\n",
       " 'worst film year',\n",
       " 'year old boy',\n",
       " 'year old girl']"
      ]
     },
     "execution_count": 123,
     "metadata": {},
     "output_type": "execute_result"
    }
   ],
   "source": [
    "trigrams"
   ]
  },
  {
   "cell_type": "code",
   "execution_count": 124,
   "metadata": {},
   "outputs": [
    {
     "name": "stdout",
     "output_type": "stream",
     "text": [
      "ACC : 0.825\n",
      "              precision    recall  f1-score   support\n",
      "\n",
      "           0       0.82      0.83      0.83       200\n",
      "           1       0.83      0.82      0.82       200\n",
      "\n",
      "    accuracy                           0.82       400\n",
      "   macro avg       0.83      0.82      0.82       400\n",
      "weighted avg       0.83      0.82      0.82       400\n",
      "\n"
     ]
    }
   ],
   "source": [
    "from sklearn.naive_bayes import MultinomialNB\n",
    "clf = MultinomialNB()\n",
    "clf.fit(X_train,y_train)\n",
    "\n",
    "y_pred = clf.predict(X_test)\n",
    "\n",
    "from sklearn.metrics import accuracy_score,classification_report\n",
    "\n",
    "clf_report = classification_report(y_test,y_pred)\n",
    "print(F'ACC : {accuracy_score(y_test,y_pred)}')\n",
    "print(clf_report)"
   ]
  },
  {
   "cell_type": "code",
   "execution_count": 127,
   "metadata": {},
   "outputs": [
    {
     "name": "stdout",
     "output_type": "stream",
     "text": [
      "ACC : 0.7725\n",
      "              precision    recall  f1-score   support\n",
      "\n",
      "           0       0.74      0.84      0.79       200\n",
      "           1       0.82      0.70      0.75       200\n",
      "\n",
      "    accuracy                           0.77       400\n",
      "   macro avg       0.78      0.77      0.77       400\n",
      "weighted avg       0.78      0.77      0.77       400\n",
      "\n"
     ]
    }
   ],
   "source": [
    "rf = RandomForestClassifier(n_estimators= 50)\n",
    "rf.fit(X_train,y_train)\n",
    "\n",
    "y_pred_rf = rf.predict(X_test)\n",
    "\n",
    "from sklearn.metrics import accuracy_score,classification_report\n",
    "\n",
    "clf_report = classification_report(y_test,y_pred_rf)\n",
    "print(F'ACC : {accuracy_score(y_test,y_pred_rf)}')\n",
    "print(clf_report)"
   ]
  },
  {
   "cell_type": "code",
   "execution_count": 126,
   "metadata": {},
   "outputs": [
    {
     "name": "stdout",
     "output_type": "stream",
     "text": [
      "ACC : 0.835\n",
      "              precision    recall  f1-score   support\n",
      "\n",
      "           0       0.80      0.89      0.84       200\n",
      "           1       0.88      0.78      0.83       200\n",
      "\n",
      "    accuracy                           0.83       400\n",
      "   macro avg       0.84      0.83      0.83       400\n",
      "weighted avg       0.84      0.83      0.83       400\n",
      "\n"
     ]
    }
   ],
   "source": [
    "rf = RandomForestClassifier(n_estimators= 400)\n",
    "rf.fit(X_train,y_train)\n",
    "\n",
    "y_pred_rf = rf.predict(X_test)\n",
    "\n",
    "from sklearn.metrics import accuracy_score,classification_report\n",
    "\n",
    "clf_report = classification_report(y_test,y_pred_rf)\n",
    "print(F'ACC : {accuracy_score(y_test,y_pred_rf)}')\n",
    "print(clf_report)"
   ]
  },
  {
   "cell_type": "code",
   "execution_count": 131,
   "metadata": {},
   "outputs": [
    {
     "data": {
      "text/plain": [
       "array([[0.56, 0.44]])"
      ]
     },
     "execution_count": 131,
     "metadata": {},
     "output_type": "execute_result"
    }
   ],
   "source": [
    "rf.predict_proba([X_test[0]])"
   ]
  },
  {
   "cell_type": "code",
   "execution_count": 130,
   "metadata": {},
   "outputs": [
    {
     "data": {
      "text/plain": [
       "(10000,)"
      ]
     },
     "execution_count": 130,
     "metadata": {},
     "output_type": "execute_result"
    }
   ],
   "source": [
    "X_test[0].shape"
   ]
  },
  {
   "cell_type": "code",
   "execution_count": null,
   "metadata": {},
   "outputs": [],
   "source": []
  },
  {
   "cell_type": "code",
   "execution_count": null,
   "metadata": {},
   "outputs": [],
   "source": []
  },
  {
   "cell_type": "code",
   "execution_count": null,
   "metadata": {},
   "outputs": [],
   "source": []
  }
 ],
 "metadata": {
  "kernelspec": {
   "display_name": "Python 3",
   "language": "python",
   "name": "python3"
  },
  "language_info": {
   "codemirror_mode": {
    "name": "ipython",
    "version": 3
   },
   "file_extension": ".py",
   "mimetype": "text/x-python",
   "name": "python",
   "nbconvert_exporter": "python",
   "pygments_lexer": "ipython3",
   "version": "3.8.5"
  },
  "nteract": {
   "version": "0.28.0"
  }
 },
 "nbformat": 4,
 "nbformat_minor": 4
}
